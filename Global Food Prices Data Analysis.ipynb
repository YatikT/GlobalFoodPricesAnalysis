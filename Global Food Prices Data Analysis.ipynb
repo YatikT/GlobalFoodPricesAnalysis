{
 "cells": [
  {
   "cell_type": "markdown",
   "id": "a7c52a41",
   "metadata": {},
   "source": [
    "# This project analyses and visualizes a Global Food Price Dataset\n",
    "## Link to the dataset: https://www.kaggle.com/datasets/lasaljaywardena/global-food-prices-dataset?resource=download"
   ]
  },
  {
   "cell_type": "code",
   "execution_count": 58,
   "id": "f65c9328",
   "metadata": {},
   "outputs": [],
   "source": [
    "import pandas as pd\n",
    "import os\n",
    "import matplotlib.pyplot as plt\n",
    "import datetime"
   ]
  },
  {
   "cell_type": "markdown",
   "id": "473f96c5",
   "metadata": {},
   "source": [
    "## Data Cleaning"
   ]
  },
  {
   "cell_type": "code",
   "execution_count": 59,
   "id": "7127bfce",
   "metadata": {},
   "outputs": [],
   "source": [
    "df = pd.read_csv(\"Data Science Projects\\global_food_prices.csv\", dtype = {'adm1_id': int,\n",
    "                                                                          \"adm0_id\": int,\n",
    "                                                                          \"adm0_name\": str, \n",
    "                                                                          \"mkt_name\": str, \n",
    "                                                                          \"pt_id\": int,\n",
    "                                                                          \"cm_name\": str,\n",
    "                                                                          \"mp_price\": float,\n",
    "                                                                          \"adm1_name\": str                                                               \n",
    "                                                                         })"
   ]
  },
  {
   "cell_type": "code",
   "execution_count": 60,
   "id": "34f1e3f2",
   "metadata": {},
   "outputs": [],
   "source": [
    "df2 = df[[\"adm0_name\", \"cm_name\", \"um_name\", \"cur_name\", \"mp_month\", \"mp_year\", \"mp_price\", \"mkt_name\"]]\n",
    "\n",
    "df2 = df2.rename(columns={\"adm0_name\": \"Country\", \n",
    "                   \"cm_name\": \"Food Item\", \n",
    "                   \"um_name\": \"Units\", \n",
    "                   \"cur_name\": \"Currency\", \n",
    "                   \"mp_month\": \"Month\", \n",
    "                   \"mp_year\": \"Year\",\n",
    "                   \"mp_price\": \"Price\",\n",
    "                   \"mkt_name\": \"Market\"\n",
    "                  })"
   ]
  },
  {
   "cell_type": "code",
   "execution_count": 61,
   "id": "7919081a",
   "metadata": {},
   "outputs": [],
   "source": [
    "# df2['Food Item'] = df2['Food Item'].replace(['- Retail', '- Wholesale'], ' ')\n",
    "# df2.head()\n",
    "\n",
    "\n",
    "df2['Food'] = df2['Food Item'].str.replace('- Retail', ' ')\n",
    "df2[\"Food Item\"] = df2[\"Food\"]\n",
    "df2['Food'] = df2['Food Item'].str.replace('- Wholesale', ' ')"
   ]
  },
  {
   "cell_type": "markdown",
   "id": "1ccc0f06",
   "metadata": {},
   "source": [
    "#### Lookup function"
   ]
  },
  {
   "cell_type": "code",
   "execution_count": 62,
   "id": "06c41a07",
   "metadata": {},
   "outputs": [],
   "source": [
    "# df2[df2['Food'].str.contains(\"Wholesale\")]"
   ]
  },
  {
   "cell_type": "code",
   "execution_count": 63,
   "id": "7489a8db",
   "metadata": {},
   "outputs": [],
   "source": [
    "df2.drop(columns = \"Food Item\", inplace = True)"
   ]
  },
  {
   "cell_type": "markdown",
   "id": "667f544e",
   "metadata": {},
   "source": [
    "#### Filtering for a specific country"
   ]
  },
  {
   "cell_type": "code",
   "execution_count": 64,
   "id": "9aadc072",
   "metadata": {},
   "outputs": [],
   "source": [
    "# Honduras = df2[df2['Country'].str.contains(\"Honduras\")]"
   ]
  },
  {
   "cell_type": "markdown",
   "id": "fbeb9dc3",
   "metadata": {},
   "source": [
    "#### Converting Month and Year to Datetime format"
   ]
  },
  {
   "cell_type": "code",
   "execution_count": 65,
   "id": "b67c2ab3",
   "metadata": {},
   "outputs": [],
   "source": [
    "df2[\"Date\"] = pd.to_datetime(df2['Year'].astype(str)  + df2['Month'].astype(str), format='%Y%m')\n",
    "df2.drop(columns = {'Month', 'Year'}, inplace = True)"
   ]
  },
  {
   "cell_type": "markdown",
   "id": "76a30004",
   "metadata": {},
   "source": [
    "#### Data for each country from beginning of each year"
   ]
  },
  {
   "cell_type": "code",
   "execution_count": 66,
   "id": "aa7fe3d6",
   "metadata": {},
   "outputs": [],
   "source": [
    "# filter by single day\n",
    "# df_filtered = df[df['date'].dt.strftime('%Y-%m-%d') == '2014-01-01']\n",
    "\n",
    "# filter by single month\n",
    "# df_filtered = df[df['date'].dt.strftime('%Y-%m') == '2014-01']\n",
    "\n",
    "# filter by single year\n",
    "# df_filtered = df[df['date'].dt.strftime('%Y') == '2014']"
   ]
  },
  {
   "cell_type": "code",
   "execution_count": 67,
   "id": "e80dfb43",
   "metadata": {},
   "outputs": [
    {
     "data": {
      "text/html": [
       "<div>\n",
       "<style scoped>\n",
       "    .dataframe tbody tr th:only-of-type {\n",
       "        vertical-align: middle;\n",
       "    }\n",
       "\n",
       "    .dataframe tbody tr th {\n",
       "        vertical-align: top;\n",
       "    }\n",
       "\n",
       "    .dataframe thead th {\n",
       "        text-align: right;\n",
       "    }\n",
       "</style>\n",
       "<table border=\"1\" class=\"dataframe\">\n",
       "  <thead>\n",
       "    <tr style=\"text-align: right;\">\n",
       "      <th></th>\n",
       "      <th>Country</th>\n",
       "      <th>Units</th>\n",
       "      <th>Currency</th>\n",
       "      <th>Price</th>\n",
       "      <th>Market</th>\n",
       "      <th>Food</th>\n",
       "      <th>Date</th>\n",
       "    </tr>\n",
       "  </thead>\n",
       "  <tbody>\n",
       "    <tr>\n",
       "      <th>0</th>\n",
       "      <td>Afghanistan</td>\n",
       "      <td>KG</td>\n",
       "      <td>AFN</td>\n",
       "      <td>50.0000</td>\n",
       "      <td>Fayzabad</td>\n",
       "      <td>Bread</td>\n",
       "      <td>2014-01-01</td>\n",
       "    </tr>\n",
       "    <tr>\n",
       "      <th>12</th>\n",
       "      <td>Afghanistan</td>\n",
       "      <td>KG</td>\n",
       "      <td>AFN</td>\n",
       "      <td>50.0000</td>\n",
       "      <td>Fayzabad</td>\n",
       "      <td>Bread</td>\n",
       "      <td>2015-01-01</td>\n",
       "    </tr>\n",
       "    <tr>\n",
       "      <th>22</th>\n",
       "      <td>Afghanistan</td>\n",
       "      <td>KG</td>\n",
       "      <td>AFN</td>\n",
       "      <td>55.5000</td>\n",
       "      <td>Fayzabad</td>\n",
       "      <td>Bread</td>\n",
       "      <td>2016-01-01</td>\n",
       "    </tr>\n",
       "    <tr>\n",
       "      <th>33</th>\n",
       "      <td>Afghanistan</td>\n",
       "      <td>KG</td>\n",
       "      <td>AFN</td>\n",
       "      <td>50.0000</td>\n",
       "      <td>Fayzabad</td>\n",
       "      <td>Bread</td>\n",
       "      <td>2017-01-01</td>\n",
       "    </tr>\n",
       "    <tr>\n",
       "      <th>45</th>\n",
       "      <td>Afghanistan</td>\n",
       "      <td>KG</td>\n",
       "      <td>AFN</td>\n",
       "      <td>50.0000</td>\n",
       "      <td>Fayzabad</td>\n",
       "      <td>Bread</td>\n",
       "      <td>2018-01-01</td>\n",
       "    </tr>\n",
       "    <tr>\n",
       "      <th>...</th>\n",
       "      <td>...</td>\n",
       "      <td>...</td>\n",
       "      <td>...</td>\n",
       "      <td>...</td>\n",
       "      <td>...</td>\n",
       "      <td>...</td>\n",
       "      <td>...</td>\n",
       "    </tr>\n",
       "    <tr>\n",
       "      <th>2050499</th>\n",
       "      <td>Zimbabwe</td>\n",
       "      <td>KG</td>\n",
       "      <td>ZWL</td>\n",
       "      <td>235.5555</td>\n",
       "      <td>Torwood 2</td>\n",
       "      <td>Beans (sugar)</td>\n",
       "      <td>2021-01-01</td>\n",
       "    </tr>\n",
       "    <tr>\n",
       "      <th>2050506</th>\n",
       "      <td>Zimbabwe</td>\n",
       "      <td>100 ML</td>\n",
       "      <td>ZWL</td>\n",
       "      <td>103.3333</td>\n",
       "      <td>Torwood 2</td>\n",
       "      <td>Toothpaste</td>\n",
       "      <td>2021-01-01</td>\n",
       "    </tr>\n",
       "    <tr>\n",
       "      <th>2050513</th>\n",
       "      <td>Zimbabwe</td>\n",
       "      <td>KG</td>\n",
       "      <td>ZWL</td>\n",
       "      <td>113.3333</td>\n",
       "      <td>Torwood 2</td>\n",
       "      <td>Laundry soap</td>\n",
       "      <td>2021-01-01</td>\n",
       "    </tr>\n",
       "    <tr>\n",
       "      <th>2050520</th>\n",
       "      <td>Zimbabwe</td>\n",
       "      <td>250 G</td>\n",
       "      <td>ZWL</td>\n",
       "      <td>59.1667</td>\n",
       "      <td>Torwood 2</td>\n",
       "      <td>Handwash soap</td>\n",
       "      <td>2021-01-01</td>\n",
       "    </tr>\n",
       "    <tr>\n",
       "      <th>2050526</th>\n",
       "      <td>Zimbabwe</td>\n",
       "      <td>KG</td>\n",
       "      <td>ZWL</td>\n",
       "      <td>933.3333</td>\n",
       "      <td>Torwood 2</td>\n",
       "      <td>Fish (kapenta)</td>\n",
       "      <td>2021-01-01</td>\n",
       "    </tr>\n",
       "  </tbody>\n",
       "</table>\n",
       "<p>172090 rows × 7 columns</p>\n",
       "</div>"
      ],
      "text/plain": [
       "             Country   Units Currency     Price     Market              Food  \\\n",
       "0        Afghanistan      KG      AFN   50.0000   Fayzabad           Bread     \n",
       "12       Afghanistan      KG      AFN   50.0000   Fayzabad           Bread     \n",
       "22       Afghanistan      KG      AFN   55.5000   Fayzabad           Bread     \n",
       "33       Afghanistan      KG      AFN   50.0000   Fayzabad           Bread     \n",
       "45       Afghanistan      KG      AFN   50.0000   Fayzabad           Bread     \n",
       "...              ...     ...      ...       ...        ...               ...   \n",
       "2050499     Zimbabwe      KG      ZWL  235.5555  Torwood 2   Beans (sugar)     \n",
       "2050506     Zimbabwe  100 ML      ZWL  103.3333  Torwood 2      Toothpaste     \n",
       "2050513     Zimbabwe      KG      ZWL  113.3333  Torwood 2    Laundry soap     \n",
       "2050520     Zimbabwe   250 G      ZWL   59.1667  Torwood 2   Handwash soap     \n",
       "2050526     Zimbabwe      KG      ZWL  933.3333  Torwood 2  Fish (kapenta)     \n",
       "\n",
       "              Date  \n",
       "0       2014-01-01  \n",
       "12      2015-01-01  \n",
       "22      2016-01-01  \n",
       "33      2017-01-01  \n",
       "45      2018-01-01  \n",
       "...            ...  \n",
       "2050499 2021-01-01  \n",
       "2050506 2021-01-01  \n",
       "2050513 2021-01-01  \n",
       "2050520 2021-01-01  \n",
       "2050526 2021-01-01  \n",
       "\n",
       "[172090 rows x 7 columns]"
      ]
     },
     "execution_count": 67,
     "metadata": {},
     "output_type": "execute_result"
    }
   ],
   "source": [
    "# df2[df2['Date'].dt.strftime('%m') == '01']\n",
    "# df2[\"Quarter\"] = df2[\"Date\"].dt.quarter\n",
    "df2[df2['Date'].dt.strftime('%m') == '01']"
   ]
  },
  {
   "cell_type": "markdown",
   "id": "4445d33f",
   "metadata": {},
   "source": [
    "# Analysis of food price patterns in one specific country and for one food item:\n",
    "## 2 types of analysis were conducted for Afghanistan's Bread Prices:\n",
    "### 1) Market Analysis (Prices throughout the 21st century of food prices for different markets)"
   ]
  },
  {
   "cell_type": "code",
   "execution_count": 68,
   "id": "29723e6f",
   "metadata": {},
   "outputs": [],
   "source": [
    "AfghanBread = df2[(df2[\"Country\"] == 'Afghanistan') & (df2['Food'].str.contains('Bread'))]\n",
    "# AfghanBread.head(50)\n",
    "# AfghanBread.to_csv('Afbr', sep='\\t')\n",
    "# AFBR.to_excel('Afbr2.xlsx')"
   ]
  },
  {
   "cell_type": "code",
   "execution_count": 69,
   "id": "ce99d34b",
   "metadata": {},
   "outputs": [],
   "source": [
    "AFBR = AfghanBread.sort_values([\"Market\", \"Date\"], ascending=True, ignore_index=True)\n",
    "# AFBR.head(60)\n",
    "# AFBR.to_excel('Afbr3.xlsx')"
   ]
  },
  {
   "cell_type": "markdown",
   "id": "21677efa",
   "metadata": {},
   "source": [
    "### 2) Country Analysis (Food Prices averaged across all markets and analysed throughout the years)"
   ]
  },
  {
   "cell_type": "code",
   "execution_count": 70,
   "id": "ce41daa5",
   "metadata": {},
   "outputs": [
    {
     "data": {
      "text/plain": [
       "Date\n",
       "2000-01-01    15.2500\n",
       "2000-02-01    15.3000\n",
       "2000-03-01    14.7525\n",
       "2000-04-01    17.1950\n",
       "2000-05-01    18.2775\n",
       "Name: Price, dtype: float64"
      ]
     },
     "execution_count": 70,
     "metadata": {},
     "output_type": "execute_result"
    }
   ],
   "source": [
    "AFBR_Mean = AFBR.groupby('Date')['Price'].mean() \n",
    "# Groupby one column and return the mean of only particular column in the group.\n",
    "AFBR_Mean.head()\n",
    "# AFBR_Mean.to_excel('Afbr4.xlsx')\n"
   ]
  },
  {
   "cell_type": "code",
   "execution_count": 71,
   "id": "875d6c59",
   "metadata": {},
   "outputs": [
    {
     "name": "stderr",
     "output_type": "stream",
     "text": [
      "C:\\Users\\yatik\\AppData\\Local\\Temp\\ipykernel_11428\\1567351871.py:1: FutureWarning: The default value of numeric_only in DataFrameGroupBy.mean is deprecated. In a future version, numeric_only will default to False. Either specify numeric_only or select only columns which should be valid for the function.\n",
      "  df2.groupby(['Country', 'Date']).mean()\n"
     ]
    },
    {
     "data": {
      "text/html": [
       "<div>\n",
       "<style scoped>\n",
       "    .dataframe tbody tr th:only-of-type {\n",
       "        vertical-align: middle;\n",
       "    }\n",
       "\n",
       "    .dataframe tbody tr th {\n",
       "        vertical-align: top;\n",
       "    }\n",
       "\n",
       "    .dataframe thead th {\n",
       "        text-align: right;\n",
       "    }\n",
       "</style>\n",
       "<table border=\"1\" class=\"dataframe\">\n",
       "  <thead>\n",
       "    <tr style=\"text-align: right;\">\n",
       "      <th></th>\n",
       "      <th></th>\n",
       "      <th>Price</th>\n",
       "    </tr>\n",
       "    <tr>\n",
       "      <th>Country</th>\n",
       "      <th>Date</th>\n",
       "      <th></th>\n",
       "    </tr>\n",
       "  </thead>\n",
       "  <tbody>\n",
       "    <tr>\n",
       "      <th rowspan=\"5\" valign=\"top\">Afghanistan</th>\n",
       "      <th>2000-01-01</th>\n",
       "      <td>27717.866667</td>\n",
       "    </tr>\n",
       "    <tr>\n",
       "      <th>2000-02-01</th>\n",
       "      <td>28620.300000</td>\n",
       "    </tr>\n",
       "    <tr>\n",
       "      <th>2000-03-01</th>\n",
       "      <td>27001.308696</td>\n",
       "    </tr>\n",
       "    <tr>\n",
       "      <th>2000-04-01</th>\n",
       "      <td>27493.947083</td>\n",
       "    </tr>\n",
       "    <tr>\n",
       "      <th>2000-05-01</th>\n",
       "      <td>265318.800443</td>\n",
       "    </tr>\n",
       "    <tr>\n",
       "      <th>...</th>\n",
       "      <th>...</th>\n",
       "      <td>...</td>\n",
       "    </tr>\n",
       "    <tr>\n",
       "      <th rowspan=\"5\" valign=\"top\">Zimbabwe</th>\n",
       "      <th>2021-02-01</th>\n",
       "      <td>211.339288</td>\n",
       "    </tr>\n",
       "    <tr>\n",
       "      <th>2021-03-01</th>\n",
       "      <td>219.791897</td>\n",
       "    </tr>\n",
       "    <tr>\n",
       "      <th>2021-04-01</th>\n",
       "      <td>212.235271</td>\n",
       "    </tr>\n",
       "    <tr>\n",
       "      <th>2021-05-01</th>\n",
       "      <td>199.064952</td>\n",
       "    </tr>\n",
       "    <tr>\n",
       "      <th>2021-06-01</th>\n",
       "      <td>211.879648</td>\n",
       "    </tr>\n",
       "  </tbody>\n",
       "</table>\n",
       "<p>17643 rows × 1 columns</p>\n",
       "</div>"
      ],
      "text/plain": [
       "                                Price\n",
       "Country     Date                     \n",
       "Afghanistan 2000-01-01   27717.866667\n",
       "            2000-02-01   28620.300000\n",
       "            2000-03-01   27001.308696\n",
       "            2000-04-01   27493.947083\n",
       "            2000-05-01  265318.800443\n",
       "...                               ...\n",
       "Zimbabwe    2021-02-01     211.339288\n",
       "            2021-03-01     219.791897\n",
       "            2021-04-01     212.235271\n",
       "            2021-05-01     199.064952\n",
       "            2021-06-01     211.879648\n",
       "\n",
       "[17643 rows x 1 columns]"
      ]
     },
     "execution_count": 71,
     "metadata": {},
     "output_type": "execute_result"
    }
   ],
   "source": [
    "df2.groupby(['Country', 'Date']).mean()"
   ]
  },
  {
   "cell_type": "code",
   "execution_count": null,
   "id": "31a2351f",
   "metadata": {},
   "outputs": [],
   "source": []
  }
 ],
 "metadata": {
  "kernelspec": {
   "display_name": "Python 3 (ipykernel)",
   "language": "python",
   "name": "python3"
  },
  "language_info": {
   "codemirror_mode": {
    "name": "ipython",
    "version": 3
   },
   "file_extension": ".py",
   "mimetype": "text/x-python",
   "name": "python",
   "nbconvert_exporter": "python",
   "pygments_lexer": "ipython3",
   "version": "3.10.9"
  }
 },
 "nbformat": 4,
 "nbformat_minor": 5
}
