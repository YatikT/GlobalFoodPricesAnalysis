{
 "cells": [
  {
   "cell_type": "markdown",
   "id": "a7c52a41",
   "metadata": {},
   "source": [
    "# This project analyses and visualizes a Global Food Price Dataset\n",
    "## Link to the dataset: https://www.kaggle.com/datasets/lasaljaywardena/global-food-prices-dataset?resource=download"
   ]
  },
  {
   "cell_type": "code",
   "execution_count": 1,
   "id": "f65c9328",
   "metadata": {},
   "outputs": [],
   "source": [
    "import pandas as pd\n",
    "import os\n",
    "import matplotlib.pyplot as plt\n",
    "import datetime\n",
    "import matplotlib.pyplot as plt\n",
    "import seaborn as sns"
   ]
  },
  {
   "cell_type": "markdown",
   "id": "473f96c5",
   "metadata": {},
   "source": [
    "## Data Cleaning"
   ]
  },
  {
   "cell_type": "code",
   "execution_count": 2,
   "id": "7127bfce",
   "metadata": {},
   "outputs": [],
   "source": [
    "df = pd.read_csv(\"Data Science Projects\\global_food_prices.csv\", dtype = {'adm1_id': int,\n",
    "                                                                          \"adm0_id\": int,\n",
    "                                                                          \"adm0_name\": str, \n",
    "                                                                          \"mkt_name\": str, \n",
    "                                                                          \"pt_id\": int,\n",
    "                                                                          \"cm_name\": str,\n",
    "                                                                          \"mp_price\": float,\n",
    "                                                                          \"adm1_name\": str                                                               \n",
    "                                                                         })"
   ]
  },
  {
   "cell_type": "code",
   "execution_count": 3,
   "id": "34f1e3f2",
   "metadata": {},
   "outputs": [],
   "source": [
    "df2 = df[[\"adm0_name\", \"cm_name\", \"um_name\", \"cur_name\", \"mp_month\", \"mp_year\", \"mp_price\", \"mkt_name\"]]\n",
    "\n",
    "df2 = df2.rename(columns={\"adm0_name\": \"Country\", \n",
    "                   \"cm_name\": \"Food Item\", \n",
    "                   \"um_name\": \"Units\", \n",
    "                   \"cur_name\": \"Currency\", \n",
    "                   \"mp_month\": \"Month\", \n",
    "                   \"mp_year\": \"Year\",\n",
    "                   \"mp_price\": \"Price\",\n",
    "                   \"mkt_name\": \"Market\"\n",
    "                  })"
   ]
  },
  {
   "cell_type": "code",
   "execution_count": 4,
   "id": "7919081a",
   "metadata": {},
   "outputs": [],
   "source": [
    "# df2['Food Item'] = df2['Food Item'].replace(['- Retail', '- Wholesale'], ' ')\n",
    "# df2.head()\n",
    "\n",
    "\n",
    "df2['Food'] = df2['Food Item'].str.replace('- Retail', ' ')\n",
    "df2[\"Food Item\"] = df2[\"Food\"]\n",
    "df2['Food'] = df2['Food Item'].str.replace('- Wholesale', ' ')"
   ]
  },
  {
   "cell_type": "markdown",
   "id": "1ccc0f06",
   "metadata": {},
   "source": [
    "#### Lookup function"
   ]
  },
  {
   "cell_type": "code",
   "execution_count": 5,
   "id": "06c41a07",
   "metadata": {},
   "outputs": [],
   "source": [
    "# df2[df2['Food'].str.contains(\"Wholesale\")]"
   ]
  },
  {
   "cell_type": "code",
   "execution_count": 6,
   "id": "7489a8db",
   "metadata": {},
   "outputs": [],
   "source": [
    "df2.drop(columns = \"Food Item\", inplace = True)"
   ]
  },
  {
   "cell_type": "markdown",
   "id": "667f544e",
   "metadata": {},
   "source": [
    "#### Filtering for a specific country"
   ]
  },
  {
   "cell_type": "code",
   "execution_count": 7,
   "id": "9aadc072",
   "metadata": {},
   "outputs": [],
   "source": [
    "# Honduras = df2[df2['Country'].str.contains(\"Honduras\")]"
   ]
  },
  {
   "cell_type": "markdown",
   "id": "fbeb9dc3",
   "metadata": {},
   "source": [
    "#### Converting Month and Year to Datetime format"
   ]
  },
  {
   "cell_type": "code",
   "execution_count": 8,
   "id": "b67c2ab3",
   "metadata": {},
   "outputs": [],
   "source": [
    "df2[\"Date\"] = pd.to_datetime(df2['Year'].astype(str)  + df2['Month'].astype(str), format='%Y%m')\n",
    "df2.drop(columns = {'Month', 'Year'}, inplace = True)"
   ]
  },
  {
   "cell_type": "markdown",
   "id": "76a30004",
   "metadata": {},
   "source": [
    "#### Data for each country from beginning of each year"
   ]
  },
  {
   "cell_type": "code",
   "execution_count": 9,
   "id": "aa7fe3d6",
   "metadata": {},
   "outputs": [],
   "source": [
    "# filter by single day\n",
    "# df_filtered = df[df['date'].dt.strftime('%Y-%m-%d') == '2014-01-01']\n",
    "\n",
    "# filter by single month\n",
    "# df_filtered = df[df['date'].dt.strftime('%Y-%m') == '2014-01']\n",
    "\n",
    "# filter by single year\n",
    "# df_filtered = df[df['date'].dt.strftime('%Y') == '2014']"
   ]
  },
  {
   "cell_type": "code",
   "execution_count": 10,
   "id": "e80dfb43",
   "metadata": {},
   "outputs": [
    {
     "data": {
      "text/html": [
       "<div>\n",
       "<style scoped>\n",
       "    .dataframe tbody tr th:only-of-type {\n",
       "        vertical-align: middle;\n",
       "    }\n",
       "\n",
       "    .dataframe tbody tr th {\n",
       "        vertical-align: top;\n",
       "    }\n",
       "\n",
       "    .dataframe thead th {\n",
       "        text-align: right;\n",
       "    }\n",
       "</style>\n",
       "<table border=\"1\" class=\"dataframe\">\n",
       "  <thead>\n",
       "    <tr style=\"text-align: right;\">\n",
       "      <th></th>\n",
       "      <th>Country</th>\n",
       "      <th>Units</th>\n",
       "      <th>Currency</th>\n",
       "      <th>Price</th>\n",
       "      <th>Market</th>\n",
       "      <th>Food</th>\n",
       "      <th>Date</th>\n",
       "    </tr>\n",
       "  </thead>\n",
       "  <tbody>\n",
       "    <tr>\n",
       "      <th>0</th>\n",
       "      <td>Afghanistan</td>\n",
       "      <td>KG</td>\n",
       "      <td>AFN</td>\n",
       "      <td>50.0000</td>\n",
       "      <td>Fayzabad</td>\n",
       "      <td>Bread</td>\n",
       "      <td>2014-01-01</td>\n",
       "    </tr>\n",
       "    <tr>\n",
       "      <th>12</th>\n",
       "      <td>Afghanistan</td>\n",
       "      <td>KG</td>\n",
       "      <td>AFN</td>\n",
       "      <td>50.0000</td>\n",
       "      <td>Fayzabad</td>\n",
       "      <td>Bread</td>\n",
       "      <td>2015-01-01</td>\n",
       "    </tr>\n",
       "    <tr>\n",
       "      <th>22</th>\n",
       "      <td>Afghanistan</td>\n",
       "      <td>KG</td>\n",
       "      <td>AFN</td>\n",
       "      <td>55.5000</td>\n",
       "      <td>Fayzabad</td>\n",
       "      <td>Bread</td>\n",
       "      <td>2016-01-01</td>\n",
       "    </tr>\n",
       "    <tr>\n",
       "      <th>33</th>\n",
       "      <td>Afghanistan</td>\n",
       "      <td>KG</td>\n",
       "      <td>AFN</td>\n",
       "      <td>50.0000</td>\n",
       "      <td>Fayzabad</td>\n",
       "      <td>Bread</td>\n",
       "      <td>2017-01-01</td>\n",
       "    </tr>\n",
       "    <tr>\n",
       "      <th>45</th>\n",
       "      <td>Afghanistan</td>\n",
       "      <td>KG</td>\n",
       "      <td>AFN</td>\n",
       "      <td>50.0000</td>\n",
       "      <td>Fayzabad</td>\n",
       "      <td>Bread</td>\n",
       "      <td>2018-01-01</td>\n",
       "    </tr>\n",
       "    <tr>\n",
       "      <th>...</th>\n",
       "      <td>...</td>\n",
       "      <td>...</td>\n",
       "      <td>...</td>\n",
       "      <td>...</td>\n",
       "      <td>...</td>\n",
       "      <td>...</td>\n",
       "      <td>...</td>\n",
       "    </tr>\n",
       "    <tr>\n",
       "      <th>2050499</th>\n",
       "      <td>Zimbabwe</td>\n",
       "      <td>KG</td>\n",
       "      <td>ZWL</td>\n",
       "      <td>235.5555</td>\n",
       "      <td>Torwood 2</td>\n",
       "      <td>Beans (sugar)</td>\n",
       "      <td>2021-01-01</td>\n",
       "    </tr>\n",
       "    <tr>\n",
       "      <th>2050506</th>\n",
       "      <td>Zimbabwe</td>\n",
       "      <td>100 ML</td>\n",
       "      <td>ZWL</td>\n",
       "      <td>103.3333</td>\n",
       "      <td>Torwood 2</td>\n",
       "      <td>Toothpaste</td>\n",
       "      <td>2021-01-01</td>\n",
       "    </tr>\n",
       "    <tr>\n",
       "      <th>2050513</th>\n",
       "      <td>Zimbabwe</td>\n",
       "      <td>KG</td>\n",
       "      <td>ZWL</td>\n",
       "      <td>113.3333</td>\n",
       "      <td>Torwood 2</td>\n",
       "      <td>Laundry soap</td>\n",
       "      <td>2021-01-01</td>\n",
       "    </tr>\n",
       "    <tr>\n",
       "      <th>2050520</th>\n",
       "      <td>Zimbabwe</td>\n",
       "      <td>250 G</td>\n",
       "      <td>ZWL</td>\n",
       "      <td>59.1667</td>\n",
       "      <td>Torwood 2</td>\n",
       "      <td>Handwash soap</td>\n",
       "      <td>2021-01-01</td>\n",
       "    </tr>\n",
       "    <tr>\n",
       "      <th>2050526</th>\n",
       "      <td>Zimbabwe</td>\n",
       "      <td>KG</td>\n",
       "      <td>ZWL</td>\n",
       "      <td>933.3333</td>\n",
       "      <td>Torwood 2</td>\n",
       "      <td>Fish (kapenta)</td>\n",
       "      <td>2021-01-01</td>\n",
       "    </tr>\n",
       "  </tbody>\n",
       "</table>\n",
       "<p>172090 rows × 7 columns</p>\n",
       "</div>"
      ],
      "text/plain": [
       "             Country   Units Currency     Price     Market              Food  \\\n",
       "0        Afghanistan      KG      AFN   50.0000   Fayzabad           Bread     \n",
       "12       Afghanistan      KG      AFN   50.0000   Fayzabad           Bread     \n",
       "22       Afghanistan      KG      AFN   55.5000   Fayzabad           Bread     \n",
       "33       Afghanistan      KG      AFN   50.0000   Fayzabad           Bread     \n",
       "45       Afghanistan      KG      AFN   50.0000   Fayzabad           Bread     \n",
       "...              ...     ...      ...       ...        ...               ...   \n",
       "2050499     Zimbabwe      KG      ZWL  235.5555  Torwood 2   Beans (sugar)     \n",
       "2050506     Zimbabwe  100 ML      ZWL  103.3333  Torwood 2      Toothpaste     \n",
       "2050513     Zimbabwe      KG      ZWL  113.3333  Torwood 2    Laundry soap     \n",
       "2050520     Zimbabwe   250 G      ZWL   59.1667  Torwood 2   Handwash soap     \n",
       "2050526     Zimbabwe      KG      ZWL  933.3333  Torwood 2  Fish (kapenta)     \n",
       "\n",
       "              Date  \n",
       "0       2014-01-01  \n",
       "12      2015-01-01  \n",
       "22      2016-01-01  \n",
       "33      2017-01-01  \n",
       "45      2018-01-01  \n",
       "...            ...  \n",
       "2050499 2021-01-01  \n",
       "2050506 2021-01-01  \n",
       "2050513 2021-01-01  \n",
       "2050520 2021-01-01  \n",
       "2050526 2021-01-01  \n",
       "\n",
       "[172090 rows x 7 columns]"
      ]
     },
     "execution_count": 10,
     "metadata": {},
     "output_type": "execute_result"
    }
   ],
   "source": [
    "# df2[df2['Date'].dt.strftime('%m') == '01']\n",
    "# df2[\"Quarter\"] = df2[\"Date\"].dt.quarter\n",
    "df2[df2['Date'].dt.strftime('%m') == '01']"
   ]
  },
  {
   "cell_type": "markdown",
   "id": "4445d33f",
   "metadata": {},
   "source": [
    "# Analysis of food price patterns in one specific country and for one food item:\n",
    "## 2 types of analysis were conducted for Afghanistan's Bread Prices:\n",
    "### 1) Market Analysis (Prices throughout the 21st century of food prices for different markets)"
   ]
  },
  {
   "cell_type": "code",
   "execution_count": 11,
   "id": "29723e6f",
   "metadata": {},
   "outputs": [],
   "source": [
    "AfghanBread = df2[(df2[\"Country\"] == 'Afghanistan') & (df2['Food'].str.contains('Bread'))]\n",
    "# AfghanBread.head(50)\n",
    "# AfghanBread.to_csv('Afbr', sep='\\t')\n",
    "# AFBR.to_excel('Afbr2.xlsx')"
   ]
  },
  {
   "cell_type": "code",
   "execution_count": 77,
   "id": "ce99d34b",
   "metadata": {},
   "outputs": [],
   "source": [
    "AFBR = AfghanBread.sort_values([\"Market\", \"Date\"], ascending=True, ignore_index=True)\n",
    "AFBR = AFBR[AFBR['Date'].dt.strftime('%Y-%m-%d') == '2021-01-01']\n",
    "# AFBR.head(60)\n",
    "# AFBR.to_excel('Afbr3.xlsx')"
   ]
  },
  {
   "cell_type": "markdown",
   "id": "77c891b2",
   "metadata": {},
   "source": [
    "## Price of Bread in Afghanistan across different markets in the beginning of 2021 \n",
    "\n",
    "- A large majority of markets share similar prices with the median remaining around 50 AFN\n",
    "- There is a large range in prices with the cheapest Market selling Bread at less than half the price of the most expensive market"
   ]
  },
  {
   "cell_type": "code",
   "execution_count": 79,
   "id": "225f22e6",
   "metadata": {},
   "outputs": [
    {
     "data": {
      "image/png": "[encoded data removed]",
      "text/plain": [
       "<Figure size 2000x700 with 1 Axes>"
      ]
     },
     "metadata": {},
     "output_type": "display_data"
    }
   ],
   "source": [
    "plt.figure(figsize=(20,7))\n",
    "sns.barplot(data=AFBR, x = 'Market', y = 'Price');\n",
    "plt.xticks(rotation=90);\n",
    "plt.legend([],[], frameon=False);"
   ]
  },
  {
   "cell_type": "markdown",
   "id": "21677efa",
   "metadata": {},
   "source": [
    "### 2) Country Analysis (Food Prices averaged across all markets and analysed throughout the years)"
   ]
  },
  {
   "cell_type": "code",
   "execution_count": 13,
   "id": "ce41daa5",
   "metadata": {},
   "outputs": [
    {
     "data": {
      "text/plain": [
       "Date\n",
       "2000-01-01    15.2500\n",
       "2000-02-01    15.3000\n",
       "2000-03-01    14.7525\n",
       "2000-04-01    17.1950\n",
       "2000-05-01    18.2775\n",
       "Name: Price, dtype: float64"
      ]
     },
     "execution_count": 13,
     "metadata": {},
     "output_type": "execute_result"
    }
   ],
   "source": [
    "AFBR_Mean = AFBR.groupby('Date')['Price'].mean() \n",
    "# Groupby one column and return the mean of only particular column in the group.\n",
    "AFBR_Mean.head()\n",
    "# AFBR_Mean.to_excel('Afbr4.xlsx')\n"
   ]
  },
  {
   "cell_type": "code",
   "execution_count": 39,
   "id": "9214feb0",
   "metadata": {},
   "outputs": [
    {
     "data": {
      "text/html": [
       "<div>\n",
       "<style scoped>\n",
       "    .dataframe tbody tr th:only-of-type {\n",
       "        vertical-align: middle;\n",
       "    }\n",
       "\n",
       "    .dataframe tbody tr th {\n",
       "        vertical-align: top;\n",
       "    }\n",
       "\n",
       "    .dataframe thead th {\n",
       "        text-align: right;\n",
       "    }\n",
       "</style>\n",
       "<table border=\"1\" class=\"dataframe\">\n",
       "  <thead>\n",
       "    <tr style=\"text-align: right;\">\n",
       "      <th></th>\n",
       "      <th>Country</th>\n",
       "      <th>Units</th>\n",
       "      <th>Currency</th>\n",
       "      <th>Price</th>\n",
       "      <th>Market</th>\n",
       "      <th>Food</th>\n",
       "      <th>Date</th>\n",
       "    </tr>\n",
       "  </thead>\n",
       "  <tbody>\n",
       "    <tr>\n",
       "      <th>0</th>\n",
       "      <td>Afghanistan</td>\n",
       "      <td>KG</td>\n",
       "      <td>AFN</td>\n",
       "      <td>50.0000</td>\n",
       "      <td>Fayzabad</td>\n",
       "      <td>Bread</td>\n",
       "      <td>2014-01-01</td>\n",
       "    </tr>\n",
       "    <tr>\n",
       "      <th>1</th>\n",
       "      <td>Afghanistan</td>\n",
       "      <td>KG</td>\n",
       "      <td>AFN</td>\n",
       "      <td>50.0000</td>\n",
       "      <td>Fayzabad</td>\n",
       "      <td>Bread</td>\n",
       "      <td>2014-02-01</td>\n",
       "    </tr>\n",
       "    <tr>\n",
       "      <th>2</th>\n",
       "      <td>Afghanistan</td>\n",
       "      <td>KG</td>\n",
       "      <td>AFN</td>\n",
       "      <td>50.0000</td>\n",
       "      <td>Fayzabad</td>\n",
       "      <td>Bread</td>\n",
       "      <td>2014-03-01</td>\n",
       "    </tr>\n",
       "    <tr>\n",
       "      <th>3</th>\n",
       "      <td>Afghanistan</td>\n",
       "      <td>KG</td>\n",
       "      <td>AFN</td>\n",
       "      <td>50.0000</td>\n",
       "      <td>Fayzabad</td>\n",
       "      <td>Bread</td>\n",
       "      <td>2014-04-01</td>\n",
       "    </tr>\n",
       "    <tr>\n",
       "      <th>4</th>\n",
       "      <td>Afghanistan</td>\n",
       "      <td>KG</td>\n",
       "      <td>AFN</td>\n",
       "      <td>50.0000</td>\n",
       "      <td>Fayzabad</td>\n",
       "      <td>Bread</td>\n",
       "      <td>2014-05-01</td>\n",
       "    </tr>\n",
       "    <tr>\n",
       "      <th>...</th>\n",
       "      <td>...</td>\n",
       "      <td>...</td>\n",
       "      <td>...</td>\n",
       "      <td>...</td>\n",
       "      <td>...</td>\n",
       "      <td>...</td>\n",
       "      <td>...</td>\n",
       "    </tr>\n",
       "    <tr>\n",
       "      <th>1913698</th>\n",
       "      <td>Ukraine</td>\n",
       "      <td>Loaf</td>\n",
       "      <td>UAH</td>\n",
       "      <td>14.1500</td>\n",
       "      <td>Zhytomyr</td>\n",
       "      <td>Bread (wheat)</td>\n",
       "      <td>2017-07-01</td>\n",
       "    </tr>\n",
       "    <tr>\n",
       "      <th>1913699</th>\n",
       "      <td>Ukraine</td>\n",
       "      <td>Loaf</td>\n",
       "      <td>UAH</td>\n",
       "      <td>14.9100</td>\n",
       "      <td>Zhytomyr</td>\n",
       "      <td>Bread (wheat)</td>\n",
       "      <td>2017-09-01</td>\n",
       "    </tr>\n",
       "    <tr>\n",
       "      <th>1913700</th>\n",
       "      <td>Ukraine</td>\n",
       "      <td>Loaf</td>\n",
       "      <td>UAH</td>\n",
       "      <td>14.9967</td>\n",
       "      <td>Zhytomyr</td>\n",
       "      <td>Bread (wheat)</td>\n",
       "      <td>2017-10-01</td>\n",
       "    </tr>\n",
       "    <tr>\n",
       "      <th>1913701</th>\n",
       "      <td>Ukraine</td>\n",
       "      <td>Loaf</td>\n",
       "      <td>UAH</td>\n",
       "      <td>15.7900</td>\n",
       "      <td>Zhytomyr</td>\n",
       "      <td>Bread (wheat)</td>\n",
       "      <td>2017-11-01</td>\n",
       "    </tr>\n",
       "    <tr>\n",
       "      <th>1913702</th>\n",
       "      <td>Ukraine</td>\n",
       "      <td>Loaf</td>\n",
       "      <td>UAH</td>\n",
       "      <td>16.4333</td>\n",
       "      <td>Zhytomyr</td>\n",
       "      <td>Bread (wheat)</td>\n",
       "      <td>2017-12-01</td>\n",
       "    </tr>\n",
       "  </tbody>\n",
       "</table>\n",
       "<p>35742 rows × 7 columns</p>\n",
       "</div>"
      ],
      "text/plain": [
       "             Country Units Currency    Price    Market             Food  \\\n",
       "0        Afghanistan    KG      AFN  50.0000  Fayzabad          Bread     \n",
       "1        Afghanistan    KG      AFN  50.0000  Fayzabad          Bread     \n",
       "2        Afghanistan    KG      AFN  50.0000  Fayzabad          Bread     \n",
       "3        Afghanistan    KG      AFN  50.0000  Fayzabad          Bread     \n",
       "4        Afghanistan    KG      AFN  50.0000  Fayzabad          Bread     \n",
       "...              ...   ...      ...      ...       ...              ...   \n",
       "1913698      Ukraine  Loaf      UAH  14.1500  Zhytomyr  Bread (wheat)     \n",
       "1913699      Ukraine  Loaf      UAH  14.9100  Zhytomyr  Bread (wheat)     \n",
       "1913700      Ukraine  Loaf      UAH  14.9967  Zhytomyr  Bread (wheat)     \n",
       "1913701      Ukraine  Loaf      UAH  15.7900  Zhytomyr  Bread (wheat)     \n",
       "1913702      Ukraine  Loaf      UAH  16.4333  Zhytomyr  Bread (wheat)     \n",
       "\n",
       "              Date  \n",
       "0       2014-01-01  \n",
       "1       2014-02-01  \n",
       "2       2014-03-01  \n",
       "3       2014-04-01  \n",
       "4       2014-05-01  \n",
       "...            ...  \n",
       "1913698 2017-07-01  \n",
       "1913699 2017-09-01  \n",
       "1913700 2017-10-01  \n",
       "1913701 2017-11-01  \n",
       "1913702 2017-12-01  \n",
       "\n",
       "[35742 rows x 7 columns]"
      ]
     },
     "execution_count": 39,
     "metadata": {},
     "output_type": "execute_result"
    }
   ],
   "source": [
    "bread = df2[df2['Food'].str.contains('Bread')]\n",
    "bread"
   ]
  },
  {
   "cell_type": "markdown",
   "id": "b13becd5",
   "metadata": {},
   "source": [
    "## Price of Bread in Afghanistan across the 21st Century\n",
    "\n",
    "- Prices greatly increase from November 2007 to July 2008 resulting in over a **110% price increase**, this could be due to the great recession that began in late 2007  \n",
    "- Prices increased by another 10% during the start of the covid pandemic in 2020"
   ]
  },
  {
   "cell_type": "code",
   "execution_count": 101,
   "id": "31a2351f",
   "metadata": {},
   "outputs": [
    {
     "data": {
      "image/png": "[encoded data removed]",
      "text/plain": [
       "<Figure size 640x480 with 1 Axes>"
      ]
     },
     "metadata": {},
     "output_type": "display_data"
    }
   ],
   "source": [
    "zbr = bread[bread['Country'].str.contains('Afghanistan')]\n",
    "zbr2 = zbr.groupby(['Country', 'Date']).mean(numeric_only=True)\n",
    "sns.lineplot(data=zbr2, x = 'Date', y = 'Price');"
   ]
  },
  {
   "cell_type": "markdown",
   "id": "53404f48",
   "metadata": {},
   "source": [
    "## Similar Analysis can be done for each country simply by replacing the country name with any of the following below"
   ]
  },
  {
   "cell_type": "code",
   "execution_count": 89,
   "id": "b6be7abf",
   "metadata": {},
   "outputs": [
    {
     "data": {
      "text/plain": [
       "array(['Afghanistan', 'Algeria', 'Angola', 'Argentina', 'Armenia',\n",
       "       'Belarus', 'Bolivia', 'Congo', 'Djibouti', 'Gambia', 'Guatemala',\n",
       "       'Guinea', 'Guinea-Bissau', 'Iraq', 'Jordan', 'Kenya', 'Kyrgyzstan',\n",
       "       'Lebanon', 'Lesotho', 'Libya', 'Namibia', 'Nicaragua', 'Nigeria',\n",
       "       'Panama', 'Peru', 'State of Palestine', 'Swaziland',\n",
       "       'Syrian Arab Republic', 'Tajikistan', 'Turkey', 'Ukraine'],\n",
       "      dtype=object)"
      ]
     },
     "execution_count": 89,
     "metadata": {},
     "output_type": "execute_result"
    }
   ],
   "source": [
    "bread['Country'].unique()"
   ]
  },
  {
   "cell_type": "code",
   "execution_count": null,
   "id": "dbdaf5c1",
   "metadata": {},
   "outputs": [],
   "source": []
  },
  {
   "cell_type": "code",
   "execution_count": null,
   "id": "e1398ad5",
   "metadata": {},
   "outputs": [],
   "source": []
  }
 ],
 "metadata": {
  "kernelspec": {
   "display_name": "Python 3 (ipykernel)",
   "language": "python",
   "name": "python3"
  },
  "language_info": {
   "codemirror_mode": {
    "name": "ipython",
    "version": 3
   },
   "file_extension": ".py",
   "mimetype": "text/x-python",
   "name": "python",
   "nbconvert_exporter": "python",
   "pygments_lexer": "ipython3",
   "version": "3.10.9"
  }
 },
 "nbformat": 4,
 "nbformat_minor": 5
}
