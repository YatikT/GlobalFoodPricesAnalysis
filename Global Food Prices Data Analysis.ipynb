# This project analyses and visualizes a Global Food Price Dataset
## Link to the dataset: https://www.kaggle.com/datasets/lasaljaywardena/global-food-prices-dataset?resource=download


```python
import pandas as pd
import os
import matplotlib.pyplot as plt
import datetime
```


```python
df = pd.read_csv("Data Science Projects\global_food_prices.csv", dtype = {'adm1_id': int,
                                                                          "adm0_id": int,
                                                                          "adm0_name": str, 
                                                                          "mkt_name": str, 
                                                                          "pt_id": int,
                                                                          "cm_name": str,
                                                                          "mp_price": float,
                                                                          "adm1_name": str                                                               
                                                                         })
```


```python
df2 = df[["adm0_name", "cm_name", "um_name", "cur_name", "mp_month", "mp_year", "mp_price"]]

df2 = df2.rename(columns={"adm0_name": "Country", 
                   "cm_name": "Food Item", 
                   "um_name": "Units", 
                   "cur_name": "Currency", 
                   "mp_month": "Month", 
                   "mp_year": "Year",
                   "mp_price": "Price"
                  })
```


```python
# df2['Food Item'] = df2['Food Item'].replace(['- Retail', '- Wholesale'], ' ')
# df2.head()


df2['Food'] = df2['Food Item'].str.replace('- Retail', ' ')
df2["Food Item"] = df2["Food"]
df2['Food'] = df2['Food Item'].str.replace('- Wholesale', ' ')
```

# Lookup function


```python
# df2[df2['Food'].str.contains("Wholesale")]
```


```python
df2.drop(columns = "Food Item", inplace = True)
df2.head()
```




<div>
<style scoped>
    .dataframe tbody tr th:only-of-type {
        vertical-align: middle;
    }

    .dataframe tbody tr th {
        vertical-align: top;
    }

    .dataframe thead th {
        text-align: right;
    }
</style>
<table border="1" class="dataframe">
  <thead>
    <tr style="text-align: right;">
      <th></th>
      <th>Country</th>
      <th>Units</th>
      <th>Currency</th>
      <th>Month</th>
      <th>Year</th>
      <th>Price</th>
      <th>Food</th>
    </tr>
  </thead>
  <tbody>
    <tr>
      <th>0</th>
      <td>Afghanistan</td>
      <td>KG</td>
      <td>AFN</td>
      <td>1</td>
      <td>2014</td>
      <td>50.0</td>
      <td>Bread</td>
    </tr>
    <tr>
      <th>1</th>
      <td>Afghanistan</td>
      <td>KG</td>
      <td>AFN</td>
      <td>2</td>
      <td>2014</td>
      <td>50.0</td>
      <td>Bread</td>
    </tr>
    <tr>
      <th>2</th>
      <td>Afghanistan</td>
      <td>KG</td>
      <td>AFN</td>
      <td>3</td>
      <td>2014</td>
      <td>50.0</td>
      <td>Bread</td>
    </tr>
    <tr>
      <th>3</th>
      <td>Afghanistan</td>
      <td>KG</td>
      <td>AFN</td>
      <td>4</td>
      <td>2014</td>
      <td>50.0</td>
      <td>Bread</td>
    </tr>
    <tr>
      <th>4</th>
      <td>Afghanistan</td>
      <td>KG</td>
      <td>AFN</td>
      <td>5</td>
      <td>2014</td>
      <td>50.0</td>
      <td>Bread</td>
    </tr>
  </tbody>
</table>
</div>



## Filtering for a specific country


```python
# Honduras = df2[df2['Country'].str.contains("Honduras")]
# HD = Honduras.head(5)
# HD
```

## Converting Month and Year to Datetime format


```python
df2["Date"] = pd.to_datetime(df2['Year'].astype(str)  + df2['Month'].astype(str), format='%Y%m')
df2.drop(columns = {'Month', 'Year'}, inplace = True)
df2
```




<div>
<style scoped>
    .dataframe tbody tr th:only-of-type {
        vertical-align: middle;
    }

    .dataframe tbody tr th {
        vertical-align: top;
    }

    .dataframe thead th {
        text-align: right;
    }
</style>
<table border="1" class="dataframe">
  <thead>
    <tr style="text-align: right;">
      <th></th>
      <th>Country</th>
      <th>Units</th>
      <th>Currency</th>
      <th>Price</th>
      <th>Food</th>
      <th>Date</th>
    </tr>
  </thead>
  <tbody>
    <tr>
      <th>0</th>
      <td>Afghanistan</td>
      <td>KG</td>
      <td>AFN</td>
      <td>50.0000</td>
      <td>Bread</td>
      <td>2014-01-01</td>
    </tr>
    <tr>
      <th>1</th>
      <td>Afghanistan</td>
      <td>KG</td>
      <td>AFN</td>
      <td>50.0000</td>
      <td>Bread</td>
      <td>2014-02-01</td>
    </tr>
    <tr>
      <th>2</th>
      <td>Afghanistan</td>
      <td>KG</td>
      <td>AFN</td>
      <td>50.0000</td>
      <td>Bread</td>
      <td>2014-03-01</td>
    </tr>
    <tr>
      <th>3</th>
      <td>Afghanistan</td>
      <td>KG</td>
      <td>AFN</td>
      <td>50.0000</td>
      <td>Bread</td>
      <td>2014-04-01</td>
    </tr>
    <tr>
      <th>4</th>
      <td>Afghanistan</td>
      <td>KG</td>
      <td>AFN</td>
      <td>50.0000</td>
      <td>Bread</td>
      <td>2014-05-01</td>
    </tr>
    <tr>
      <th>...</th>
      <td>...</td>
      <td>...</td>
      <td>...</td>
      <td>...</td>
      <td>...</td>
      <td>...</td>
    </tr>
    <tr>
      <th>2050633</th>
      <td>Zimbabwe</td>
      <td>KG</td>
      <td>ZWL</td>
      <td>233.3333</td>
      <td>Beans (sugar)</td>
      <td>2021-06-01</td>
    </tr>
    <tr>
      <th>2050634</th>
      <td>Zimbabwe</td>
      <td>100 ML</td>
      <td>ZWL</td>
      <td>112.5000</td>
      <td>Toothpaste</td>
      <td>2021-06-01</td>
    </tr>
    <tr>
      <th>2050635</th>
      <td>Zimbabwe</td>
      <td>KG</td>
      <td>ZWL</td>
      <td>114.0000</td>
      <td>Laundry soap</td>
      <td>2021-06-01</td>
    </tr>
    <tr>
      <th>2050636</th>
      <td>Zimbabwe</td>
      <td>250 G</td>
      <td>ZWL</td>
      <td>59.5000</td>
      <td>Handwash soap</td>
      <td>2021-06-01</td>
    </tr>
    <tr>
      <th>2050637</th>
      <td>Zimbabwe</td>
      <td>KG</td>
      <td>ZWL</td>
      <td>1200.0000</td>
      <td>Fish (kapenta)</td>
      <td>2021-06-01</td>
    </tr>
  </tbody>
</table>
<p>2050638 rows × 6 columns</p>
</div>



## Data for each country from beginning of each year


```python
# filter by single day
# df_filtered = df[df['date'].dt.strftime('%Y-%m-%d') == '2014-01-01']

# filter by single month
# df_filtered = df[df['date'].dt.strftime('%Y-%m') == '2014-01']

# filter by single year
# df_filtered = df[df['date'].dt.strftime('%Y') == '2014']
```


```python
# df2[df2['Date'].dt.strftime('%m') == '01']
df2[df2['Date'].dt.strftime('%m') == '01']
```




<div>
<style scoped>
    .dataframe tbody tr th:only-of-type {
        vertical-align: middle;
    }

    .dataframe tbody tr th {
        vertical-align: top;
    }

    .dataframe thead th {
        text-align: right;
    }
</style>
<table border="1" class="dataframe">
  <thead>
    <tr style="text-align: right;">
      <th></th>
      <th>Country</th>
      <th>Units</th>
      <th>Currency</th>
      <th>Price</th>
      <th>Food</th>
      <th>Date</th>
    </tr>
  </thead>
  <tbody>
    <tr>
      <th>0</th>
      <td>Afghanistan</td>
      <td>KG</td>
      <td>AFN</td>
      <td>50.0000</td>
      <td>Bread</td>
      <td>2014-01-01</td>
    </tr>
    <tr>
      <th>12</th>
      <td>Afghanistan</td>
      <td>KG</td>
      <td>AFN</td>
      <td>50.0000</td>
      <td>Bread</td>
      <td>2015-01-01</td>
    </tr>
    <tr>
      <th>22</th>
      <td>Afghanistan</td>
      <td>KG</td>
      <td>AFN</td>
      <td>55.5000</td>
      <td>Bread</td>
      <td>2016-01-01</td>
    </tr>
    <tr>
      <th>33</th>
      <td>Afghanistan</td>
      <td>KG</td>
      <td>AFN</td>
      <td>50.0000</td>
      <td>Bread</td>
      <td>2017-01-01</td>
    </tr>
    <tr>
      <th>45</th>
      <td>Afghanistan</td>
      <td>KG</td>
      <td>AFN</td>
      <td>50.0000</td>
      <td>Bread</td>
      <td>2018-01-01</td>
    </tr>
    <tr>
      <th>...</th>
      <td>...</td>
      <td>...</td>
      <td>...</td>
      <td>...</td>
      <td>...</td>
      <td>...</td>
    </tr>
    <tr>
      <th>2050499</th>
      <td>Zimbabwe</td>
      <td>KG</td>
      <td>ZWL</td>
      <td>235.5555</td>
      <td>Beans (sugar)</td>
      <td>2021-01-01</td>
    </tr>
    <tr>
      <th>2050506</th>
      <td>Zimbabwe</td>
      <td>100 ML</td>
      <td>ZWL</td>
      <td>103.3333</td>
      <td>Toothpaste</td>
      <td>2021-01-01</td>
    </tr>
    <tr>
      <th>2050513</th>
      <td>Zimbabwe</td>
      <td>KG</td>
      <td>ZWL</td>
      <td>113.3333</td>
      <td>Laundry soap</td>
      <td>2021-01-01</td>
    </tr>
    <tr>
      <th>2050520</th>
      <td>Zimbabwe</td>
      <td>250 G</td>
      <td>ZWL</td>
      <td>59.1667</td>
      <td>Handwash soap</td>
      <td>2021-01-01</td>
    </tr>
    <tr>
      <th>2050526</th>
      <td>Zimbabwe</td>
      <td>KG</td>
      <td>ZWL</td>
      <td>933.3333</td>
      <td>Fish (kapenta)</td>
      <td>2021-01-01</td>
    </tr>
  </tbody>
</table>
<p>172090 rows × 6 columns</p>
</div>




```python
df2["Quarter"] = df2["Date"].dt.quarter
```


```python
AfghanBread = df2[(df2["Country"] == 'Afghanistan') & (df2['Food'].str.contains('Bread'))]
AfghanBread.head(50)
```




<div>
<style scoped>
    .dataframe tbody tr th:only-of-type {
        vertical-align: middle;
    }

    .dataframe tbody tr th {
        vertical-align: top;
    }

    .dataframe thead th {
        text-align: right;
    }
</style>
<table border="1" class="dataframe">
  <thead>
    <tr style="text-align: right;">
      <th></th>
      <th>Country</th>
      <th>Units</th>
      <th>Currency</th>
      <th>Price</th>
      <th>Food</th>
      <th>Date</th>
      <th>Quarter</th>
    </tr>
  </thead>
  <tbody>
    <tr>
      <th>0</th>
      <td>Afghanistan</td>
      <td>KG</td>
      <td>AFN</td>
      <td>50.00</td>
      <td>Bread</td>
      <td>2014-01-01</td>
      <td>1</td>
    </tr>
    <tr>
      <th>1</th>
      <td>Afghanistan</td>
      <td>KG</td>
      <td>AFN</td>
      <td>50.00</td>
      <td>Bread</td>
      <td>2014-02-01</td>
      <td>1</td>
    </tr>
    <tr>
      <th>2</th>
      <td>Afghanistan</td>
      <td>KG</td>
      <td>AFN</td>
      <td>50.00</td>
      <td>Bread</td>
      <td>2014-03-01</td>
      <td>1</td>
    </tr>
    <tr>
      <th>3</th>
      <td>Afghanistan</td>
      <td>KG</td>
      <td>AFN</td>
      <td>50.00</td>
      <td>Bread</td>
      <td>2014-04-01</td>
      <td>2</td>
    </tr>
    <tr>
      <th>4</th>
      <td>Afghanistan</td>
      <td>KG</td>
      <td>AFN</td>
      <td>50.00</td>
      <td>Bread</td>
      <td>2014-05-01</td>
      <td>2</td>
    </tr>
    <tr>
      <th>5</th>
      <td>Afghanistan</td>
      <td>KG</td>
      <td>AFN</td>
      <td>50.00</td>
      <td>Bread</td>
      <td>2014-06-01</td>
      <td>2</td>
    </tr>
    <tr>
      <th>6</th>
      <td>Afghanistan</td>
      <td>KG</td>
      <td>AFN</td>
      <td>50.00</td>
      <td>Bread</td>
      <td>2014-07-01</td>
      <td>3</td>
    </tr>
    <tr>
      <th>7</th>
      <td>Afghanistan</td>
      <td>KG</td>
      <td>AFN</td>
      <td>50.00</td>
      <td>Bread</td>
      <td>2014-08-01</td>
      <td>3</td>
    </tr>
    <tr>
      <th>8</th>
      <td>Afghanistan</td>
      <td>KG</td>
      <td>AFN</td>
      <td>50.00</td>
      <td>Bread</td>
      <td>2014-09-01</td>
      <td>3</td>
    </tr>
    <tr>
      <th>9</th>
      <td>Afghanistan</td>
      <td>KG</td>
      <td>AFN</td>
      <td>50.00</td>
      <td>Bread</td>
      <td>2014-10-01</td>
      <td>4</td>
    </tr>
    <tr>
      <th>10</th>
      <td>Afghanistan</td>
      <td>KG</td>
      <td>AFN</td>
      <td>50.00</td>
      <td>Bread</td>
      <td>2014-11-01</td>
      <td>4</td>
    </tr>
    <tr>
      <th>11</th>
      <td>Afghanistan</td>
      <td>KG</td>
      <td>AFN</td>
      <td>50.00</td>
      <td>Bread</td>
      <td>2014-12-01</td>
      <td>4</td>
    </tr>
    <tr>
      <th>12</th>
      <td>Afghanistan</td>
      <td>KG</td>
      <td>AFN</td>
      <td>50.00</td>
      <td>Bread</td>
      <td>2015-01-01</td>
      <td>1</td>
    </tr>
    <tr>
      <th>13</th>
      <td>Afghanistan</td>
      <td>KG</td>
      <td>AFN</td>
      <td>50.00</td>
      <td>Bread</td>
      <td>2015-02-01</td>
      <td>1</td>
    </tr>
    <tr>
      <th>14</th>
      <td>Afghanistan</td>
      <td>KG</td>
      <td>AFN</td>
      <td>50.00</td>
      <td>Bread</td>
      <td>2015-03-01</td>
      <td>1</td>
    </tr>
    <tr>
      <th>15</th>
      <td>Afghanistan</td>
      <td>KG</td>
      <td>AFN</td>
      <td>50.00</td>
      <td>Bread</td>
      <td>2015-06-01</td>
      <td>2</td>
    </tr>
    <tr>
      <th>16</th>
      <td>Afghanistan</td>
      <td>KG</td>
      <td>AFN</td>
      <td>50.00</td>
      <td>Bread</td>
      <td>2015-07-01</td>
      <td>3</td>
    </tr>
    <tr>
      <th>17</th>
      <td>Afghanistan</td>
      <td>KG</td>
      <td>AFN</td>
      <td>50.00</td>
      <td>Bread</td>
      <td>2015-08-01</td>
      <td>3</td>
    </tr>
    <tr>
      <th>18</th>
      <td>Afghanistan</td>
      <td>KG</td>
      <td>AFN</td>
      <td>50.00</td>
      <td>Bread</td>
      <td>2015-09-01</td>
      <td>3</td>
    </tr>
    <tr>
      <th>19</th>
      <td>Afghanistan</td>
      <td>KG</td>
      <td>AFN</td>
      <td>56.25</td>
      <td>Bread</td>
      <td>2015-10-01</td>
      <td>4</td>
    </tr>
    <tr>
      <th>20</th>
      <td>Afghanistan</td>
      <td>KG</td>
      <td>AFN</td>
      <td>65.25</td>
      <td>Bread</td>
      <td>2015-11-01</td>
      <td>4</td>
    </tr>
    <tr>
      <th>21</th>
      <td>Afghanistan</td>
      <td>KG</td>
      <td>AFN</td>
      <td>55.50</td>
      <td>Bread</td>
      <td>2015-12-01</td>
      <td>4</td>
    </tr>
    <tr>
      <th>22</th>
      <td>Afghanistan</td>
      <td>KG</td>
      <td>AFN</td>
      <td>55.50</td>
      <td>Bread</td>
      <td>2016-01-01</td>
      <td>1</td>
    </tr>
    <tr>
      <th>23</th>
      <td>Afghanistan</td>
      <td>KG</td>
      <td>AFN</td>
      <td>55.50</td>
      <td>Bread</td>
      <td>2016-03-01</td>
      <td>1</td>
    </tr>
    <tr>
      <th>24</th>
      <td>Afghanistan</td>
      <td>KG</td>
      <td>AFN</td>
      <td>50.00</td>
      <td>Bread</td>
      <td>2016-04-01</td>
      <td>2</td>
    </tr>
    <tr>
      <th>25</th>
      <td>Afghanistan</td>
      <td>KG</td>
      <td>AFN</td>
      <td>50.00</td>
      <td>Bread</td>
      <td>2016-05-01</td>
      <td>2</td>
    </tr>
    <tr>
      <th>26</th>
      <td>Afghanistan</td>
      <td>KG</td>
      <td>AFN</td>
      <td>50.00</td>
      <td>Bread</td>
      <td>2016-06-01</td>
      <td>2</td>
    </tr>
    <tr>
      <th>27</th>
      <td>Afghanistan</td>
      <td>KG</td>
      <td>AFN</td>
      <td>50.00</td>
      <td>Bread</td>
      <td>2016-07-01</td>
      <td>3</td>
    </tr>
    <tr>
      <th>28</th>
      <td>Afghanistan</td>
      <td>KG</td>
      <td>AFN</td>
      <td>50.00</td>
      <td>Bread</td>
      <td>2016-08-01</td>
      <td>3</td>
    </tr>
    <tr>
      <th>29</th>
      <td>Afghanistan</td>
      <td>KG</td>
      <td>AFN</td>
      <td>50.00</td>
      <td>Bread</td>
      <td>2016-09-01</td>
      <td>3</td>
    </tr>
    <tr>
      <th>30</th>
      <td>Afghanistan</td>
      <td>KG</td>
      <td>AFN</td>
      <td>50.00</td>
      <td>Bread</td>
      <td>2016-10-01</td>
      <td>4</td>
    </tr>
    <tr>
      <th>31</th>
      <td>Afghanistan</td>
      <td>KG</td>
      <td>AFN</td>
      <td>50.00</td>
      <td>Bread</td>
      <td>2016-11-01</td>
      <td>4</td>
    </tr>
    <tr>
      <th>32</th>
      <td>Afghanistan</td>
      <td>KG</td>
      <td>AFN</td>
      <td>50.00</td>
      <td>Bread</td>
      <td>2016-12-01</td>
      <td>4</td>
    </tr>
    <tr>
      <th>33</th>
      <td>Afghanistan</td>
      <td>KG</td>
      <td>AFN</td>
      <td>50.00</td>
      <td>Bread</td>
      <td>2017-01-01</td>
      <td>1</td>
    </tr>
    <tr>
      <th>34</th>
      <td>Afghanistan</td>
      <td>KG</td>
      <td>AFN</td>
      <td>50.00</td>
      <td>Bread</td>
      <td>2017-02-01</td>
      <td>1</td>
    </tr>
    <tr>
      <th>35</th>
      <td>Afghanistan</td>
      <td>KG</td>
      <td>AFN</td>
      <td>50.00</td>
      <td>Bread</td>
      <td>2017-03-01</td>
      <td>1</td>
    </tr>
    <tr>
      <th>36</th>
      <td>Afghanistan</td>
      <td>KG</td>
      <td>AFN</td>
      <td>50.00</td>
      <td>Bread</td>
      <td>2017-04-01</td>
      <td>2</td>
    </tr>
    <tr>
      <th>37</th>
      <td>Afghanistan</td>
      <td>KG</td>
      <td>AFN</td>
      <td>50.00</td>
      <td>Bread</td>
      <td>2017-05-01</td>
      <td>2</td>
    </tr>
    <tr>
      <th>38</th>
      <td>Afghanistan</td>
      <td>KG</td>
      <td>AFN</td>
      <td>50.00</td>
      <td>Bread</td>
      <td>2017-06-01</td>
      <td>2</td>
    </tr>
    <tr>
      <th>39</th>
      <td>Afghanistan</td>
      <td>KG</td>
      <td>AFN</td>
      <td>50.00</td>
      <td>Bread</td>
      <td>2017-07-01</td>
      <td>3</td>
    </tr>
    <tr>
      <th>40</th>
      <td>Afghanistan</td>
      <td>KG</td>
      <td>AFN</td>
      <td>50.00</td>
      <td>Bread</td>
      <td>2017-08-01</td>
      <td>3</td>
    </tr>
    <tr>
      <th>41</th>
      <td>Afghanistan</td>
      <td>KG</td>
      <td>AFN</td>
      <td>50.00</td>
      <td>Bread</td>
      <td>2017-09-01</td>
      <td>3</td>
    </tr>
    <tr>
      <th>42</th>
      <td>Afghanistan</td>
      <td>KG</td>
      <td>AFN</td>
      <td>50.00</td>
      <td>Bread</td>
      <td>2017-10-01</td>
      <td>4</td>
    </tr>
    <tr>
      <th>43</th>
      <td>Afghanistan</td>
      <td>KG</td>
      <td>AFN</td>
      <td>50.00</td>
      <td>Bread</td>
      <td>2017-11-01</td>
      <td>4</td>
    </tr>
    <tr>
      <th>44</th>
      <td>Afghanistan</td>
      <td>KG</td>
      <td>AFN</td>
      <td>50.00</td>
      <td>Bread</td>
      <td>2017-12-01</td>
      <td>4</td>
    </tr>
    <tr>
      <th>45</th>
      <td>Afghanistan</td>
      <td>KG</td>
      <td>AFN</td>
      <td>50.00</td>
      <td>Bread</td>
      <td>2018-01-01</td>
      <td>1</td>
    </tr>
    <tr>
      <th>46</th>
      <td>Afghanistan</td>
      <td>KG</td>
      <td>AFN</td>
      <td>50.00</td>
      <td>Bread</td>
      <td>2018-02-01</td>
      <td>1</td>
    </tr>
    <tr>
      <th>47</th>
      <td>Afghanistan</td>
      <td>KG</td>
      <td>AFN</td>
      <td>50.00</td>
      <td>Bread</td>
      <td>2018-03-01</td>
      <td>1</td>
    </tr>
    <tr>
      <th>48</th>
      <td>Afghanistan</td>
      <td>KG</td>
      <td>AFN</td>
      <td>50.00</td>
      <td>Bread</td>
      <td>2018-04-01</td>
      <td>2</td>
    </tr>
    <tr>
      <th>49</th>
      <td>Afghanistan</td>
      <td>KG</td>
      <td>AFN</td>
      <td>50.00</td>
      <td>Bread</td>
      <td>2018-05-01</td>
      <td>2</td>
    </tr>
  </tbody>
</table>
</div>




```python
AfghanBread.to_csv('Afbr', sep='\t')
```


```python
AFBR = AfghanBread.sort_values(by='Date', ascending=True)
```


```python
AFBR.to_excel('Afbr2.xlsx')
```


```python
AFBR.head(60)
```




<div>
<style scoped>
    .dataframe tbody tr th:only-of-type {
        vertical-align: middle;
    }

    .dataframe tbody tr th {
        vertical-align: top;
    }

    .dataframe thead th {
        text-align: right;
    }
</style>
<table border="1" class="dataframe">
  <thead>
    <tr style="text-align: right;">
      <th></th>
      <th>Country</th>
      <th>Units</th>
      <th>Currency</th>
      <th>Price</th>
      <th>Food</th>
      <th>Date</th>
      <th>Quarter</th>
    </tr>
  </thead>
  <tbody>
    <tr>
      <th>10511</th>
      <td>Afghanistan</td>
      <td>KG</td>
      <td>AFN</td>
      <td>14.86</td>
      <td>Bread</td>
      <td>2000-01-01</td>
      <td>1</td>
    </tr>
    <tr>
      <th>7777</th>
      <td>Afghanistan</td>
      <td>KG</td>
      <td>AFN</td>
      <td>16.25</td>
      <td>Bread</td>
      <td>2000-01-01</td>
      <td>1</td>
    </tr>
    <tr>
      <th>4585</th>
      <td>Afghanistan</td>
      <td>KG</td>
      <td>AFN</td>
      <td>15.63</td>
      <td>Bread</td>
      <td>2000-01-01</td>
      <td>1</td>
    </tr>
    <tr>
      <th>6288</th>
      <td>Afghanistan</td>
      <td>KG</td>
      <td>AFN</td>
      <td>14.26</td>
      <td>Bread</td>
      <td>2000-01-01</td>
      <td>1</td>
    </tr>
    <tr>
      <th>7778</th>
      <td>Afghanistan</td>
      <td>KG</td>
      <td>AFN</td>
      <td>15.42</td>
      <td>Bread</td>
      <td>2000-02-01</td>
      <td>1</td>
    </tr>
    <tr>
      <th>6289</th>
      <td>Afghanistan</td>
      <td>KG</td>
      <td>AFN</td>
      <td>13.49</td>
      <td>Bread</td>
      <td>2000-02-01</td>
      <td>1</td>
    </tr>
    <tr>
      <th>10512</th>
      <td>Afghanistan</td>
      <td>KG</td>
      <td>AFN</td>
      <td>16.66</td>
      <td>Bread</td>
      <td>2000-02-01</td>
      <td>1</td>
    </tr>
    <tr>
      <th>4586</th>
      <td>Afghanistan</td>
      <td>KG</td>
      <td>AFN</td>
      <td>15.63</td>
      <td>Bread</td>
      <td>2000-02-01</td>
      <td>1</td>
    </tr>
    <tr>
      <th>7779</th>
      <td>Afghanistan</td>
      <td>KG</td>
      <td>AFN</td>
      <td>15.83</td>
      <td>Bread</td>
      <td>2000-03-01</td>
      <td>1</td>
    </tr>
    <tr>
      <th>4587</th>
      <td>Afghanistan</td>
      <td>KG</td>
      <td>AFN</td>
      <td>16.14</td>
      <td>Bread</td>
      <td>2000-03-01</td>
      <td>1</td>
    </tr>
    <tr>
      <th>6290</th>
      <td>Afghanistan</td>
      <td>KG</td>
      <td>AFN</td>
      <td>11.76</td>
      <td>Bread</td>
      <td>2000-03-01</td>
      <td>1</td>
    </tr>
    <tr>
      <th>10513</th>
      <td>Afghanistan</td>
      <td>KG</td>
      <td>AFN</td>
      <td>15.28</td>
      <td>Bread</td>
      <td>2000-03-01</td>
      <td>1</td>
    </tr>
    <tr>
      <th>7780</th>
      <td>Afghanistan</td>
      <td>KG</td>
      <td>AFN</td>
      <td>18.67</td>
      <td>Bread</td>
      <td>2000-04-01</td>
      <td>2</td>
    </tr>
    <tr>
      <th>10514</th>
      <td>Afghanistan</td>
      <td>KG</td>
      <td>AFN</td>
      <td>20.00</td>
      <td>Bread</td>
      <td>2000-04-01</td>
      <td>2</td>
    </tr>
    <tr>
      <th>6291</th>
      <td>Afghanistan</td>
      <td>KG</td>
      <td>AFN</td>
      <td>12.92</td>
      <td>Bread</td>
      <td>2000-04-01</td>
      <td>2</td>
    </tr>
    <tr>
      <th>4588</th>
      <td>Afghanistan</td>
      <td>KG</td>
      <td>AFN</td>
      <td>17.19</td>
      <td>Bread</td>
      <td>2000-04-01</td>
      <td>2</td>
    </tr>
    <tr>
      <th>4589</th>
      <td>Afghanistan</td>
      <td>KG</td>
      <td>AFN</td>
      <td>16.67</td>
      <td>Bread</td>
      <td>2000-05-01</td>
      <td>2</td>
    </tr>
    <tr>
      <th>10515</th>
      <td>Afghanistan</td>
      <td>KG</td>
      <td>AFN</td>
      <td>20.00</td>
      <td>Bread</td>
      <td>2000-05-01</td>
      <td>2</td>
    </tr>
    <tr>
      <th>6292</th>
      <td>Afghanistan</td>
      <td>KG</td>
      <td>AFN</td>
      <td>16.44</td>
      <td>Bread</td>
      <td>2000-05-01</td>
      <td>2</td>
    </tr>
    <tr>
      <th>7781</th>
      <td>Afghanistan</td>
      <td>KG</td>
      <td>AFN</td>
      <td>20.00</td>
      <td>Bread</td>
      <td>2000-05-01</td>
      <td>2</td>
    </tr>
    <tr>
      <th>6293</th>
      <td>Afghanistan</td>
      <td>KG</td>
      <td>AFN</td>
      <td>17.43</td>
      <td>Bread</td>
      <td>2000-06-01</td>
      <td>2</td>
    </tr>
    <tr>
      <th>7782</th>
      <td>Afghanistan</td>
      <td>KG</td>
      <td>AFN</td>
      <td>20.67</td>
      <td>Bread</td>
      <td>2000-06-01</td>
      <td>2</td>
    </tr>
    <tr>
      <th>4590</th>
      <td>Afghanistan</td>
      <td>KG</td>
      <td>AFN</td>
      <td>16.67</td>
      <td>Bread</td>
      <td>2000-06-01</td>
      <td>2</td>
    </tr>
    <tr>
      <th>10516</th>
      <td>Afghanistan</td>
      <td>KG</td>
      <td>AFN</td>
      <td>20.00</td>
      <td>Bread</td>
      <td>2000-06-01</td>
      <td>2</td>
    </tr>
    <tr>
      <th>6294</th>
      <td>Afghanistan</td>
      <td>KG</td>
      <td>AFN</td>
      <td>18.54</td>
      <td>Bread</td>
      <td>2000-07-01</td>
      <td>3</td>
    </tr>
    <tr>
      <th>10517</th>
      <td>Afghanistan</td>
      <td>KG</td>
      <td>AFN</td>
      <td>20.00</td>
      <td>Bread</td>
      <td>2000-07-01</td>
      <td>3</td>
    </tr>
    <tr>
      <th>7783</th>
      <td>Afghanistan</td>
      <td>KG</td>
      <td>AFN</td>
      <td>21.66</td>
      <td>Bread</td>
      <td>2000-07-01</td>
      <td>3</td>
    </tr>
    <tr>
      <th>4591</th>
      <td>Afghanistan</td>
      <td>KG</td>
      <td>AFN</td>
      <td>16.67</td>
      <td>Bread</td>
      <td>2000-07-01</td>
      <td>3</td>
    </tr>
    <tr>
      <th>7784</th>
      <td>Afghanistan</td>
      <td>KG</td>
      <td>AFN</td>
      <td>14.33</td>
      <td>Bread</td>
      <td>2000-08-01</td>
      <td>3</td>
    </tr>
    <tr>
      <th>4592</th>
      <td>Afghanistan</td>
      <td>KG</td>
      <td>AFN</td>
      <td>16.67</td>
      <td>Bread</td>
      <td>2000-08-01</td>
      <td>3</td>
    </tr>
    <tr>
      <th>6295</th>
      <td>Afghanistan</td>
      <td>KG</td>
      <td>AFN</td>
      <td>16.40</td>
      <td>Bread</td>
      <td>2000-08-01</td>
      <td>3</td>
    </tr>
    <tr>
      <th>10518</th>
      <td>Afghanistan</td>
      <td>KG</td>
      <td>AFN</td>
      <td>20.00</td>
      <td>Bread</td>
      <td>2000-08-01</td>
      <td>3</td>
    </tr>
    <tr>
      <th>10519</th>
      <td>Afghanistan</td>
      <td>KG</td>
      <td>AFN</td>
      <td>20.00</td>
      <td>Bread</td>
      <td>2000-09-01</td>
      <td>3</td>
    </tr>
    <tr>
      <th>6296</th>
      <td>Afghanistan</td>
      <td>KG</td>
      <td>AFN</td>
      <td>15.92</td>
      <td>Bread</td>
      <td>2000-09-01</td>
      <td>3</td>
    </tr>
    <tr>
      <th>4593</th>
      <td>Afghanistan</td>
      <td>KG</td>
      <td>AFN</td>
      <td>16.67</td>
      <td>Bread</td>
      <td>2000-09-01</td>
      <td>3</td>
    </tr>
    <tr>
      <th>7785</th>
      <td>Afghanistan</td>
      <td>KG</td>
      <td>AFN</td>
      <td>19.17</td>
      <td>Bread</td>
      <td>2000-09-01</td>
      <td>3</td>
    </tr>
    <tr>
      <th>7786</th>
      <td>Afghanistan</td>
      <td>KG</td>
      <td>AFN</td>
      <td>17.50</td>
      <td>Bread</td>
      <td>2000-10-01</td>
      <td>4</td>
    </tr>
    <tr>
      <th>4594</th>
      <td>Afghanistan</td>
      <td>KG</td>
      <td>AFN</td>
      <td>16.67</td>
      <td>Bread</td>
      <td>2000-10-01</td>
      <td>4</td>
    </tr>
    <tr>
      <th>10520</th>
      <td>Afghanistan</td>
      <td>KG</td>
      <td>AFN</td>
      <td>20.00</td>
      <td>Bread</td>
      <td>2000-10-01</td>
      <td>4</td>
    </tr>
    <tr>
      <th>6297</th>
      <td>Afghanistan</td>
      <td>KG</td>
      <td>AFN</td>
      <td>15.94</td>
      <td>Bread</td>
      <td>2000-10-01</td>
      <td>4</td>
    </tr>
    <tr>
      <th>4595</th>
      <td>Afghanistan</td>
      <td>KG</td>
      <td>AFN</td>
      <td>16.67</td>
      <td>Bread</td>
      <td>2000-11-01</td>
      <td>4</td>
    </tr>
    <tr>
      <th>6298</th>
      <td>Afghanistan</td>
      <td>KG</td>
      <td>AFN</td>
      <td>16.15</td>
      <td>Bread</td>
      <td>2000-11-01</td>
      <td>4</td>
    </tr>
    <tr>
      <th>10521</th>
      <td>Afghanistan</td>
      <td>KG</td>
      <td>AFN</td>
      <td>20.00</td>
      <td>Bread</td>
      <td>2000-11-01</td>
      <td>4</td>
    </tr>
    <tr>
      <th>7787</th>
      <td>Afghanistan</td>
      <td>KG</td>
      <td>AFN</td>
      <td>18.33</td>
      <td>Bread</td>
      <td>2000-11-01</td>
      <td>4</td>
    </tr>
    <tr>
      <th>10522</th>
      <td>Afghanistan</td>
      <td>KG</td>
      <td>AFN</td>
      <td>20.00</td>
      <td>Bread</td>
      <td>2000-12-01</td>
      <td>4</td>
    </tr>
    <tr>
      <th>6299</th>
      <td>Afghanistan</td>
      <td>KG</td>
      <td>AFN</td>
      <td>16.13</td>
      <td>Bread</td>
      <td>2000-12-01</td>
      <td>4</td>
    </tr>
    <tr>
      <th>4596</th>
      <td>Afghanistan</td>
      <td>KG</td>
      <td>AFN</td>
      <td>16.67</td>
      <td>Bread</td>
      <td>2000-12-01</td>
      <td>4</td>
    </tr>
    <tr>
      <th>7788</th>
      <td>Afghanistan</td>
      <td>KG</td>
      <td>AFN</td>
      <td>18.30</td>
      <td>Bread</td>
      <td>2000-12-01</td>
      <td>4</td>
    </tr>
    <tr>
      <th>6300</th>
      <td>Afghanistan</td>
      <td>KG</td>
      <td>AFN</td>
      <td>15.90</td>
      <td>Bread</td>
      <td>2001-01-01</td>
      <td>1</td>
    </tr>
    <tr>
      <th>10523</th>
      <td>Afghanistan</td>
      <td>KG</td>
      <td>AFN</td>
      <td>20.00</td>
      <td>Bread</td>
      <td>2001-01-01</td>
      <td>1</td>
    </tr>
    <tr>
      <th>7789</th>
      <td>Afghanistan</td>
      <td>KG</td>
      <td>AFN</td>
      <td>18.75</td>
      <td>Bread</td>
      <td>2001-01-01</td>
      <td>1</td>
    </tr>
    <tr>
      <th>4597</th>
      <td>Afghanistan</td>
      <td>KG</td>
      <td>AFN</td>
      <td>16.67</td>
      <td>Bread</td>
      <td>2001-01-01</td>
      <td>1</td>
    </tr>
    <tr>
      <th>10524</th>
      <td>Afghanistan</td>
      <td>KG</td>
      <td>AFN</td>
      <td>20.00</td>
      <td>Bread</td>
      <td>2001-02-01</td>
      <td>1</td>
    </tr>
    <tr>
      <th>6301</th>
      <td>Afghanistan</td>
      <td>KG</td>
      <td>AFN</td>
      <td>16.06</td>
      <td>Bread</td>
      <td>2001-02-01</td>
      <td>1</td>
    </tr>
    <tr>
      <th>4598</th>
      <td>Afghanistan</td>
      <td>KG</td>
      <td>AFN</td>
      <td>16.67</td>
      <td>Bread</td>
      <td>2001-02-01</td>
      <td>1</td>
    </tr>
    <tr>
      <th>7790</th>
      <td>Afghanistan</td>
      <td>KG</td>
      <td>AFN</td>
      <td>20.00</td>
      <td>Bread</td>
      <td>2001-02-01</td>
      <td>1</td>
    </tr>
    <tr>
      <th>4599</th>
      <td>Afghanistan</td>
      <td>KG</td>
      <td>AFN</td>
      <td>16.67</td>
      <td>Bread</td>
      <td>2001-03-01</td>
      <td>1</td>
    </tr>
    <tr>
      <th>6302</th>
      <td>Afghanistan</td>
      <td>KG</td>
      <td>AFN</td>
      <td>16.13</td>
      <td>Bread</td>
      <td>2001-03-01</td>
      <td>1</td>
    </tr>
    <tr>
      <th>10525</th>
      <td>Afghanistan</td>
      <td>KG</td>
      <td>AFN</td>
      <td>20.00</td>
      <td>Bread</td>
      <td>2001-03-01</td>
      <td>1</td>
    </tr>
    <tr>
      <th>7791</th>
      <td>Afghanistan</td>
      <td>KG</td>
      <td>AFN</td>
      <td>20.00</td>
      <td>Bread</td>
      <td>2001-03-01</td>
      <td>1</td>
    </tr>
  </tbody>
</table>
</div>




```python

```
